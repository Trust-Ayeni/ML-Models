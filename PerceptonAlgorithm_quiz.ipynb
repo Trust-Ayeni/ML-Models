{
 "cells": [
  {
   "cell_type": "markdown",
   "metadata": {},
   "source": [
    "# What are the weights and bias for the AND perceptron?\n",
    "Set the weights (weight1, weight2) and bias (bias) to values that will correctly determine the AND operation as shown above.\n",
    "More than one set of values will work!"
   ]
  },
  {
   "cell_type": "code",
   "execution_count": 1,
   "metadata": {},
   "outputs": [
    {
     "name": "stdout",
     "output_type": "stream",
     "text": [
      "Nice!  You got it all correct.\n",
      "\n",
      " Input 1    Input 2    Linear Combination    AND   Is Correct\n",
      "       0          0                    -2      0          Yes\n",
      "       0          1                    -1      0          Yes\n",
      "       1          0                    -1      0          Yes\n",
      "       1          1                     0      1          Yes\n"
     ]
    },
    {
     "data": {
      "text/plain": [
       "'prediction = 1 if wx+b >=0 and 0 if wx+b <0\\n\\nso the inputs are (0, 0), (0, 1), (1, 0), (1, 1) make sure the number you will input for weight1, weight2 and bias will out put < 0 as false and >=0 as true\\n\\nfor inputs (0,0)\\nweight1*0+weight2*0+-2\\n\\n1*0+1*0-2 = -2\\n\\nfor inputs (0,1)\\n1*0+1*1-2 = -1\\n\\nfor inputs (1,0)\\n1*1+1*0-2 = -1\\n\\nfor inputs (1,1)\\n1*1+1*1-2 = 0 '"
      ]
     },
     "execution_count": 1,
     "metadata": {},
     "output_type": "execute_result"
    }
   ],
   "source": [
    "import pandas as pd\n",
    "\n",
    "# TODO: Set weight1, weight2, and bias\n",
    "weight1 = 1\n",
    "weight2 = 1\n",
    "bias = -2\n",
    "\n",
    "\n",
    "# DON'T CHANGE ANYTHING BELOW\n",
    "# Inputs and outputs\n",
    "test_inputs = [(0, 0), (0, 1), (1, 0), (1, 1)]\n",
    "correct_outputs = [False, False, False, True]\n",
    "outputs = []\n",
    "\n",
    "# Generate and check output\n",
    "for test_input, correct_output in zip(test_inputs, correct_outputs):\n",
    "    linear_combination = weight1 * test_input[0] + weight2 * test_input[1] + bias\n",
    "    output = int(linear_combination >= 0)\n",
    "    is_correct_string = 'Yes' if output == correct_output else 'No'\n",
    "    outputs.append([test_input[0], test_input[1], linear_combination, output, is_correct_string])\n",
    "\n",
    "# Print output\n",
    "num_wrong = len([output[4] for output in outputs if output[4] == 'No'])\n",
    "output_frame = pd.DataFrame(outputs, columns=['Input 1', '  Input 2', '  Linear Combination', '  AND', '  Is Correct'])\n",
    "if not num_wrong:\n",
    "    print('Nice!  You got it all correct.\\n')\n",
    "else:\n",
    "    print('You got {} wrong.  Keep trying!\\n'.format(num_wrong))\n",
    "print(output_frame.to_string(index=False))\n",
    "\n",
    "\n",
    "\n",
    "'''prediction = 1 if wx+b >=0 and 0 if wx+b <0\n",
    "\n",
    "so the inputs are (0, 0), (0, 1), (1, 0), (1, 1) make sure the number you will input for weight1, weight2 and bias will out put < 0 as false and >=0 as true\n",
    "\n",
    "for inputs (0,0)\n",
    "weight1*0+weight2*0+-2\n",
    "\n",
    "1*0+1*0-2 = -2\n",
    "\n",
    "for inputs (0,1)\n",
    "1*0+1*1-2 = -1\n",
    "\n",
    "for inputs (1,0)\n",
    "1*1+1*0-2 = -1\n",
    "\n",
    "for inputs (1,1)\n",
    "1*1+1*1-2 = 0 '''\n"
   ]
  },
  {
   "cell_type": "markdown",
   "metadata": {},
   "source": [
    "# NOT Perceptron\n",
    "\n",
    "Unlike the other perceptrons we looked at, the NOT operation only cares about one input. The operation returns a 0 if the input is 1 and a 1 if it's a 0.\n",
    "\n",
    "The other inputs to the perceptron are ignored.\n",
    "\n",
    "In this quiz, you'll set the weights (weight1, weight2) and bias bias to the values that calculate the NOT operation on the second input and ignores the first input."
   ]
  },
  {
   "cell_type": "code",
   "execution_count": 2,
   "metadata": {},
   "outputs": [
    {
     "name": "stdout",
     "output_type": "stream",
     "text": [
      "Nice!  You got it all correct.\n",
      "\n",
      " Input 1    Input 2    Linear Combination    NOT   Is Correct\n",
      "       0          0                     0      1          Yes\n",
      "       0          1                    -2      0          Yes\n",
      "       1          0                     1      1          Yes\n",
      "       1          1                    -1      0          Yes\n"
     ]
    }
   ],
   "source": [
    "import pandas as pd\n",
    "\n",
    "# TODO: Set weight1, weight2, and bias\n",
    "weight1 = 1\n",
    "weight2 = -2\n",
    "bias = 0\n",
    "\n",
    "\n",
    "# DON'T CHANGE ANYTHING BELOW\n",
    "# Inputs and outputs\n",
    "test_inputs = [(0, 0), (0, 1), (1, 0), (1, 1)]\n",
    "correct_outputs = [True, False, True, False]\n",
    "outputs = []\n",
    "\n",
    "# Generate and check output\n",
    "for test_input, correct_output in zip(test_inputs, correct_outputs):\n",
    "    linear_combination = weight1 * test_input[0] + weight2 * test_input[1] + bias\n",
    "    output = int(linear_combination >= 0)\n",
    "    is_correct_string = 'Yes' if output == correct_output else 'No'\n",
    "    outputs.append([test_input[0], test_input[1], linear_combination, output, is_correct_string])\n",
    "\n",
    "# Print output\n",
    "num_wrong = len([output[4] for output in outputs if output[4] == 'No'])\n",
    "output_frame = pd.DataFrame(outputs, columns=['Input 1', '  Input 2', '  Linear Combination', '  NOT', '  Is Correct'])\n",
    "if not num_wrong:\n",
    "    print('Nice!  You got it all correct.\\n')\n",
    "else:\n",
    "    print('You got {} wrong.  Keep trying!\\n'.format(num_wrong))\n",
    "print(output_frame.to_string(index=False))"
   ]
  },
  {
   "cell_type": "markdown",
   "metadata": {},
   "source": [
    "# Coding the Perceptron Algorithm\n",
    "\n",
    "Time to code! In this quiz, you'll have the chance to implement the perceptron algorithm to separate the following data (given in the file data.csv).\n",
    "\n",
    "\n",
    "Recall that the perceptron step works as follows. For a point with coordinates (p,q)(p,q), label yy, and prediction given by the equation \\hat{y} = step(w_1x_1 + w_2x_2 + b) \n",
    "\n",
    "\n",
    "1. If the point is correctly classified, do nothing.\n",
    "\n",
    "2. If the point is classified positive, but it has a negative label, subtract alpha p, alpha q, (αp,αq,) and alpha (α) from w_1, w_2,w, and b respectively.\n",
    "\n",
    "3. If the point is classified negative, but it has a positive label, add alpha p, alpha q, (αp,αq,) and alpha (α) to w_1, w_2,w, and b respectively.\n",
    "\n",
    "Then click on test run to graph the solution that the perceptron algorithm gives you. It'll actually draw a set of dotted lines, that show how the algorithm approaches to the best solution, given by the black solid line.\n",
    "\n",
    "Feel free to play with the parameters of the algorithm (number of epochs, learning rate, and even the randomizing of the initial parameters) to see how your initial conditions can affect the solution!"
   ]
  },
  {
   "cell_type": "code",
   "execution_count": 3,
   "metadata": {},
   "outputs": [],
   "source": [
    "import numpy as np\n",
    "# Setting the random seed, feel free to change it and see different solutions.\n",
    "np.random.seed(42)\n",
    "\n",
    "def stepFunction(t):\n",
    "    if t >= 0:\n",
    "        return 1\n",
    "    return 0\n",
    "\n",
    "def prediction(X, W, b):\n",
    "    return stepFunction((np.matmul(X,W)+b)[0])\n",
    "\n",
    "# TODO: Fill in the code below to implement the perceptron trick.\n",
    "# The function should receive as inputs the data X, the labels y,\n",
    "# the weights W (as an array), and the bias b,\n",
    "# update the weights and bias W, b, according to the perceptron algorithm,\n",
    "# and return W and b.\n",
    "def perceptronStep(X, y, W, b, learn_rate = 0.01):\n",
    "    for i in range(len(X)):\n",
    "        y_hat = prediction(X[i], W, b)\n",
    "        # predition in prostive area\n",
    "        if y[i]-y_hat == -1:\n",
    "            W[0] -= X[i][0]*learn_rate\n",
    "            W[1] -= X[i][1]*learn_rate\n",
    "            b -= learn_rate\n",
    "        # predition in negivate area    \n",
    "        elif y[i]-y_hat == 1:\n",
    "            W[0] += X[i][0]*learn_rate\n",
    "            W[1] += X[i][1]*learn_rate\n",
    "            b += learn_rate\n",
    "    \n",
    "    return W, b\n",
    "    \n",
    "# This function runs the perceptron algorithm repeatedly on the dataset,\n",
    "# and returns a few of the boundary lines obtained in the iterations,\n",
    "# for plotting purposes.\n",
    "# Feel free to play with the learning rate and the num_epochs,\n",
    "# and see your results plotted below.\n",
    "def trainPerceptronAlgorithm(X, y, learn_rate = 0.01, num_epochs = 25):\n",
    "    x_min, x_max = min(X.T[0]), max(X.T[0])\n",
    "    y_min, y_max = min(X.T[1]), max(X.T[1])\n",
    "    W = np.array(np.random.rand(2,1))\n",
    "    b = np.random.rand(1)[0] + x_max\n",
    "    # These are the solution lines that get plotted below.\n",
    "    boundary_lines = []\n",
    "    for i in range(num_epochs):\n",
    "        # In each epoch, we apply the perceptron step.\n",
    "        W, b = perceptronStep(X, y, W, b, learn_rate)\n",
    "        boundary_lines.append((-W[0]/W[1], -b/W[1]))\n",
    "    return boundary_lines"
   ]
  },
  {
   "cell_type": "markdown",
   "metadata": {},
   "source": [
    "# What is the entropy? \n",
    "For a bucket with a ratio of four red balls to ten blue balls? Input your answer to at least three decimal places.\n",
    "m = 4\n",
    "n = 10"
   ]
  },
  {
   "cell_type": "code",
   "execution_count": 6,
   "metadata": {},
   "outputs": [
    {
     "name": "stdout",
     "output_type": "stream",
     "text": [
      "The log2() value of Positive Decimal = 0.863\n"
     ]
    }
   ],
   "source": [
    "import math\n",
    "t = 4+10\n",
    "p1 = 4/t\n",
    "p2 = 10/t\n",
    "a = ((-p1*(math.log2(p1)))-(p2*(math.log2(p2))))\n",
    "print('The log2() value of Positive Decimal = %.3f' % a)"
   ]
  },
  {
   "cell_type": "markdown",
   "metadata": {},
   "source": [
    "# Second code cell\n",
    "If we have a bucket with eight red balls, three blue balls, and two yellow balls, what is the entropy of the set of balls? Input your answer to at least three decimal places."
   ]
  },
  {
   "cell_type": "code",
   "execution_count": 5,
   "metadata": {},
   "outputs": [
    {
     "name": "stdout",
     "output_type": "stream",
     "text": [
      "The log2() value of Positive Decimal = 1.335\n"
     ]
    }
   ],
   "source": [
    "import math\n",
    "T = 8+3+2\n",
    "p1 = 8/T\n",
    "p2 = 3/T\n",
    "p3 = 2/T\n",
    "a = ((-p1*(math.log2(p1)))-(p2*(math.log2(p2)))-(p3*(math.log2(p3))))\n",
    "print('The log2() value of Positive Decimal = %.3f' % a)"
   ]
  },
  {
   "cell_type": "markdown",
   "metadata": {},
   "source": [
    "# Decision Trees in sklearn\n",
    "In this section, you'll use decision trees to fit a given sample dataset.\n",
    "\n",
    "Before you do that, let's go over the tools required to build this model.\n",
    "\n",
    "For your decision tree model, you'll be using scikit-learn's Decision Tree Classifier class. This class provides the functions to define and fit the model to your data.\n",
    "\n",
    ">>> from sklearn.tree import DecisionTreeClassifier\n",
    ">>> model = DecisionTreeClassifier()\n",
    ">>> model.fit(x_values, y_values)\n",
    "\n",
    "In the example above, the model variable is a decision tree model that has been fitted to the data x_values and y_values. Fitting the model means finding the best tree that fits the training data. Let's make two predictions using the model's predict() function.\n",
    "\n",
    ">>> print(model.predict([ [0.2, 0.8], [0.5, 0.4] ]))\n",
    "[[ 0., 1.]]\n",
    "The model returned an array of predictions, one prediction for each input array. The first input, [0.2, 0.8], got a prediction of 0.. The second input, [0.5, 0.4], got a prediction of 1..\n",
    "\n",
    "# Hyperparameters\n",
    "When we define the model, we can specify the hyperparameters. In practice, the most common ones are\n",
    "\n",
    "max_depth: The maximum number of levels in the tree.\n",
    "\n",
    "min_samples_leaf: The minimum number of samples allowed in a leaf.\n",
    "\n",
    "min_samples_split: The minimum number of samples required to split an internal node.\n",
    "\n",
    "For example, here we define a model where the maximum depth of the trees max_depth is 7, and the minimum number of elements in each leaf min_samples_leaf is 10.\n",
    "\n",
    ">>> model = DecisionTreeClassifier(max_depth = 7, min_samples_leaf = 10)\n",
    "\n",
    "\n",
    "# Decision Tree Quiz\n",
    "In this quiz, you'll be given the following sample dataset, and your goal is to define a model that gives 100% accuracy on it.\n",
    "\n",
    "\n",
    "The data file can be found under the \"data.csv\" tab in the quiz below. It includes three columns, the first 2 comprising of the coordinates of the points, and the third one of the label.\n",
    "The data will be loaded for you, and split into features X and labels y.\n",
    "\n",
    "You'll need to complete each of the following steps:\n",
    "\n",
    "1. Build a decision tree model\n",
    "\n",
    "Create a decision tree classification model using scikit-learn's DecisionTreeClassifier and assign it to the variablemodel.\n",
    "\n",
    "2. Fit the model to the data\n",
    "\n",
    "You won't need to specify any of the hyperparameters, since the default ones will yield a model that perfectly classifies the training data. However, we encourage you to play with hyperparameters such as max_depth and min_samples_leaf to try to find the simplest possible model.\n",
    "\n",
    "3. Predict using the model\n",
    "\n",
    "Predict the labels for the training set, and assign this list to the variable y_pred.\n",
    "\n",
    "4. Calculate the accuracy of the model\n",
    "\n",
    "For this, use the function sklearn function accuracy_score. A model's accuracy is the fraction of all data points that it correctly classified.\n",
    "When you hit Test Run, you'll be able to see the boundary region of your model, which will help you tune the correct parameters, in case you need them.\n",
    "\n",
    "Note: This quiz requires you to find an accuracy of 100% on the training set. This is like memorizing the training data! A model designed to have 100% accuracy on training data is unlikely to generalize well to new data. If you pick very large values for your parameters, the model will fit the training set very well, but may not generalize well. Try to find the smallest possible parameters that do the job—then the model will be more likely to generalize well. (This aspect of the exercise won't be graded.)"
   ]
  },
  {
   "cell_type": "code",
   "execution_count": 7,
   "metadata": {},
   "outputs": [
    {
     "name": "stdout",
     "output_type": "stream",
     "text": [
      "1.0\n"
     ]
    }
   ],
   "source": [
    "# Import statements \n",
    "from sklearn.tree import DecisionTreeClassifier\n",
    "from sklearn.metrics import accuracy_score\n",
    "import pandas as pd\n",
    "import numpy as np\n",
    "\n",
    "# Read the data.\n",
    "data = np.asarray(pd.read_csv('decision tree data.csv', header=None))\n",
    "# Assign the features to the variable X, and the labels to the variable y. \n",
    "X = data[:,0:2]\n",
    "y = data[:,2]\n",
    "\n",
    "# TODO: Create the decision tree model and assign it to the variable model.\n",
    "# You won't need to, but if you'd like, play with hyperparameters such\n",
    "# as max_depth and min_samples_leaf and see what they do to the decision\n",
    "# boundary.\n",
    "model = DecisionTreeClassifier()\n",
    "\n",
    "# TODO: Fit the model.\n",
    "model.fit(X,y)\n",
    "# TODO: Make predictions. Store them in the variable y_pred.\n",
    "y_pred = model.predict(X)\n",
    "\n",
    "# TODO: Calculate the accuracy and assign it to the variable acc.\n",
    "acc = accuracy_score(y, y_pred)\n",
    "print(acc)"
   ]
  }
 ],
 "metadata": {
  "interpreter": {
   "hash": "7e4a145a50e120770814ae6c9986681bab1e6abeb6e6576d2aba2c6a03df04d2"
  },
  "kernelspec": {
   "display_name": "Python 3.8.8 64-bit ('base': conda)",
   "name": "python3"
  },
  "language_info": {
   "codemirror_mode": {
    "name": "ipython",
    "version": 3
   },
   "file_extension": ".py",
   "mimetype": "text/x-python",
   "name": "python",
   "nbconvert_exporter": "python",
   "pygments_lexer": "ipython3",
   "version": "3.8.8"
  },
  "orig_nbformat": 4
 },
 "nbformat": 4,
 "nbformat_minor": 2
}

{
 "cells": [
  {
   "cell_type": "markdown",
   "metadata": {},
   "source": [
    "# AdaBoost in sklearn\n",
    "Building an AdaBoost model in sklearn is no different than building any other model. You can use scikit-learn's AdaBoostClassifier class. This class provides the functions to define and fit the model to your data.\n",
    "\n",
    ">>> from sklearn.ensemble import AdaBoostClassifier\n",
    ">>> model = AdaBoostClassifier()\n",
    ">>> model.fit(x_train, y_train)\n",
    ">>> model.predict(x_test)\n",
    "\n",
    "In the example above, the model variable is a decision tree model that has been fitted to the data x_train and y_train. The functions fit and predict work exactly as before.\n",
    "\n",
    "Hyperparameters\n",
    "When we define the model, we can specify the hyperparameters. In practice, the most common ones are\n",
    "\n",
    "base_estimator: The model utilized for the weak learners (Warning: Don't forget to import the model that you decide to use for the weak learner).\n",
    "\n",
    "n_estimators: The maximum number of weak learners used.\n",
    "For example, here we define a model which uses decision trees of max_depth 2 as the weak learners, and it allows a maximum of 4 of them.\n",
    "\n",
    ">>> from sklearn.tree import DecisionTreeClassifier\n",
    ">>> model = AdaBoostClassifier(base_estimator = DecisionTreeClassifier(max_depth=2), n_estimators = 4)\n"
   ]
  }
 ],
 "metadata": {
  "language_info": {
   "name": "python"
  },
  "orig_nbformat": 4
 },
 "nbformat": 4,
 "nbformat_minor": 2
}
